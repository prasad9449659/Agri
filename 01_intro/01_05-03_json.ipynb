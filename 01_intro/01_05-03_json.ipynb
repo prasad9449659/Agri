{
  "cells": [
    {
      "cell_type": "markdown",
      "metadata": {
        "id": "view-in-github",
        "colab_type": "text"
      },
      "source": [
        "<a href=\"https://colab.research.google.com/github/prasad9449659/Agri/blob/main/01_intro/01_05-03_json.ipynb\" target=\"_parent\"><img src=\"https://colab.research.google.com/assets/colab-badge.svg\" alt=\"Open In Colab\"/></a>"
      ]
    },
    {
      "cell_type": "markdown",
      "id": "forced-flush",
      "metadata": {
        "id": "forced-flush"
      },
      "source": [
        "# Working with JSON Data"
      ]
    },
    {
      "cell_type": "code",
      "source": [
        "{\n",
        "    \"0\": {\n",
        "        \"id\": \"0\",\n",
        "        \"name\": \"Tractor\",\n",
        "        \"description\": \"Powerful tractor for plowing and hauling.\",\n",
        "        \"image\": \"tractor.jpg\"\n",
        "    },\n",
        "    \"1\": {\n",
        "        \"id\": \"1\",\n",
        "        \"name\": \"Harvester\",\n",
        "        \"description\": \"Efficient harvester for crops.\",\n",
        "        \"image\": \"harvester.jpg\"\n",
        "    }\n",
        "}\n"
      ],
      "metadata": {
        "colab": {
          "base_uri": "https://localhost:8080/"
        },
        "id": "rywJzVELIWJC",
        "outputId": "db42894d-f54e-4c02-fdc6-470671ac2985"
      },
      "id": "rywJzVELIWJC",
      "execution_count": 4,
      "outputs": [
        {
          "output_type": "execute_result",
          "data": {
            "text/plain": [
              "{'0': {'id': '0',\n",
              "  'name': 'Tractor',\n",
              "  'description': 'Powerful tractor for plowing and hauling.',\n",
              "  'image': 'tractor.jpg'},\n",
              " '1': {'id': '1',\n",
              "  'name': 'Harvester',\n",
              "  'description': 'Efficient harvester for crops.',\n",
              "  'image': 'harvester.jpg'}}"
            ]
          },
          "metadata": {},
          "execution_count": 4
        }
      ]
    },
    {
      "cell_type": "markdown",
      "id": "designed-reform",
      "metadata": {
        "id": "designed-reform"
      },
      "source": [
        "## Introduction"
      ]
    },
    {
      "cell_type": "markdown",
      "id": "danish-solution",
      "metadata": {
        "id": "danish-solution"
      },
      "source": [
        "In this chapter, you will meet JSON data. JSON is a data format that is frequently used online. It stands for JavaScript Object Notation. It is the principal way in which data is stored for websites and called by JavaScript. There are two reasons to learn JSON data structures early in your coding career.\n",
        "\n",
        "1) JSON is universally recognized by all browsers.\n",
        "2) JSON allows you to structure hierarchical data.\n",
        "\n",
        "What is hierarchical data? This is data that may be nested within other data. This type of data is sometimes difficult to represent cleanly in CSV format. A good way to think about this is with the following data structure. Imagine you wanted to store a series of texts in Excel. In one column, you would have a text and then in the next column, you would store a list of speakers. Now, how do you represent the list of names? You could do it like this:"
      ]
    },
    {
      "cell_type": "markdown",
      "id": "fundamental-mortality",
      "metadata": {
        "id": "fundamental-mortality"
      },
      "source": [
        "| Text                                                             | Names                        |\n",
        "|------------------------------------------------------------------|------------------------------|\n",
        "| John and Kathy both know each other. Marge and Francois do not. | John, Kathy, Marge, Francois |"
      ]
    },
    {
      "cell_type": "markdown",
      "id": "responsible-coffee",
      "metadata": {
        "id": "responsible-coffee"
      },
      "source": [
        "But this can get messy really quickly because lists are difficult to store as a data structure within a cell. There are ways to get around this, but when you start working with this type of CSV data computationally, it can get complicated the deeper the hierarchies go. Imagine if for each person, we had an age and a role. How would we store that data? Perhaps like this:"
      ]
    },
    {
      "cell_type": "markdown",
      "id": "center-feeding",
      "metadata": {
        "id": "center-feeding"
      },
      "source": [
        "| Text                                                             | Names                        | Age            |\n",
        "|------------------------------------------------------------------|------------------------------|----------------|\n",
        "| John and Kathy both know each other. Marge and Francois do not. | John, Kathy, Marge, Francois | 20, 25, 30, 35 |"
      ]
    },
    {
      "cell_type": "markdown",
      "id": "aboriginal-world",
      "metadata": {
        "id": "aboriginal-world"
      },
      "source": [
        "If I want to update the data, I need to make sure that the list of ages corresponds to the list of names. Again, this can lead to issues down the road. The solution is to stop using CSV or Excel to store this type of data and use a format that is more flexible and able to handle things like lists and nested hierarchical data. In Python, the easiest solution is JSON. To use JSON, you do not need to install any special libraries. It comes prebuilt with a special library called JSON. The only methods you need to know to use JSON: json.dump() and json.load(). But first, let's import json."
      ]
    },
    {
      "cell_type": "code",
      "execution_count": 5,
      "id": "usual-documentary",
      "metadata": {
        "id": "usual-documentary"
      },
      "outputs": [],
      "source": [
        "import json"
      ]
    },
    {
      "cell_type": "markdown",
      "id": "surprising-dispute",
      "metadata": {
        "id": "surprising-dispute"
      },
      "source": [
        "Let's create the data above as a data structure within Python."
      ]
    },
    {
      "cell_type": "code",
      "execution_count": null,
      "id": "south-feeling",
      "metadata": {
        "id": "south-feeling",
        "outputId": "4352e137-4309-4dad-bf34-3e695fa65ee7"
      },
      "outputs": [
        {
          "data": {
            "text/plain": [
              "{'text': 'John and Kathy both know each other. Marge and Francois do not.',\n",
              " 'names': ['John', 'Kathy', 'Marge', 'Francois']}"
            ]
          },
          "execution_count": 1,
          "metadata": {},
          "output_type": "execute_result"
        }
      ],
      "source": [
        "data = {\"text\": \"John and Kathy both know each other. Marge and Francois do not.\",\n",
        "        \"names\": [\"John\", \"Kathy\", \"Marge\", \"Francois\"]}\n",
        "data"
      ]
    },
    {
      "cell_type": "markdown",
      "id": "pending-figure",
      "metadata": {
        "id": "pending-figure"
      },
      "source": [
        "## json.dump()"
      ]
    },
    {
      "cell_type": "markdown",
      "id": "failing-elevation",
      "metadata": {
        "id": "failing-elevation"
      },
      "source": [
        "Now, let's try and store that data outside of Python as a JSON file. To do that, we with use the with open operator we learned about in the last chapter. Instead of naming this a .txt file, however, we will name is .json. Next, we will execute the command json.dump(). This will take 2 essential arguments: the data that you want to dump to the file and the object in which you want to dump the data, in this case \"f\". The other keyword argument here is indent. I always like to use this because it makes the JSON file easier to read. It indents the data 4 spaces each time it goes deeper into the hierarchy."
      ]
    },
    {
      "cell_type": "code",
      "execution_count": 6,
      "id": "unique-atlas",
      "metadata": {
        "colab": {
          "base_uri": "https://localhost:8080/",
          "height": 158
        },
        "id": "unique-atlas",
        "outputId": "40351785-5c64-4cac-e3a6-ba0a2e6a3118"
      },
      "outputs": [
        {
          "output_type": "error",
          "ename": "FileNotFoundError",
          "evalue": "[Errno 2] No such file or directory: 'data/sample_json.json'",
          "traceback": [
            "\u001b[0;31m---------------------------------------------------------------------------\u001b[0m",
            "\u001b[0;31mFileNotFoundError\u001b[0m                         Traceback (most recent call last)",
            "\u001b[0;32m<ipython-input-6-1e07b883d40a>\u001b[0m in \u001b[0;36m<cell line: 0>\u001b[0;34m()\u001b[0m\n\u001b[0;32m----> 1\u001b[0;31m \u001b[0;32mwith\u001b[0m \u001b[0mopen\u001b[0m \u001b[0;34m(\u001b[0m\u001b[0;34m\"data/sample_json.json\"\u001b[0m\u001b[0;34m,\u001b[0m \u001b[0;34m\"w\"\u001b[0m\u001b[0;34m)\u001b[0m \u001b[0;32mas\u001b[0m \u001b[0mf\u001b[0m\u001b[0;34m:\u001b[0m\u001b[0;34m\u001b[0m\u001b[0;34m\u001b[0m\u001b[0m\n\u001b[0m\u001b[1;32m      2\u001b[0m     \u001b[0mjson\u001b[0m\u001b[0;34m.\u001b[0m\u001b[0mdump\u001b[0m\u001b[0;34m(\u001b[0m\u001b[0mdata\u001b[0m\u001b[0;34m,\u001b[0m \u001b[0mf\u001b[0m\u001b[0;34m,\u001b[0m \u001b[0mindent\u001b[0m\u001b[0;34m=\u001b[0m\u001b[0;36m4\u001b[0m\u001b[0;34m)\u001b[0m\u001b[0;34m\u001b[0m\u001b[0;34m\u001b[0m\u001b[0m\n",
            "\u001b[0;31mFileNotFoundError\u001b[0m: [Errno 2] No such file or directory: 'data/sample_json.json'"
          ]
        }
      ],
      "source": [
        "with open (\"data/sample_json.json\", \"w\") as f:\n",
        "    json.dump(data, f, indent=4)"
      ]
    },
    {
      "source": [
        "import os\n",
        "import json # Make sure json is imported\n",
        "\n",
        "# Create the 'data' directory if it doesn't exist\n",
        "if not os.path.exists('data'):\n",
        "    os.makedirs('data')\n",
        "\n",
        "data = {\"text\": \"John and Kathy both know each other. Marge and Francois do not.\",\n",
        "        \"names\": [\"John\", \"Kathy\", \"Marge\", \"Francois\"]}\n",
        "\n",
        "# Now open the file within the 'data' directory for writing\n",
        "with open (\"data/sample_json.json\", \"w\") as f:\n",
        "    json.dump(data, f, indent=4)"
      ],
      "cell_type": "code",
      "metadata": {
        "id": "97Vm79spWINJ"
      },
      "id": "97Vm79spWINJ",
      "execution_count": 7,
      "outputs": []
    },
    {
      "cell_type": "markdown",
      "id": "above-agriculture",
      "metadata": {
        "id": "above-agriculture"
      },
      "source": [
        "## json.load()"
      ]
    },
    {
      "cell_type": "markdown",
      "id": "million-current",
      "metadata": {
        "id": "million-current"
      },
      "source": [
        "Now that we have dumped the data into a file, let's try and load it back up. Here, we will open the same JSON file, but this time as readable. We will create a new object, new_data and use json.load(). This will take one argument, the file object that you want to load from. So long as your JSON file is not corrupted, the data will load successfully."
      ]
    },
    {
      "cell_type": "code",
      "execution_count": null,
      "id": "respiratory-surgery",
      "metadata": {
        "id": "respiratory-surgery",
        "outputId": "9124f04f-e675-4bb0-957f-a2ccc62e6844"
      },
      "outputs": [
        {
          "data": {
            "text/plain": [
              "{'text': 'John and Kathy both know each other. Marge and Francois do not.',\n",
              " 'names': ['John', 'Kathy', 'Marge', 'Francois']}"
            ]
          },
          "execution_count": 14,
          "metadata": {},
          "output_type": "execute_result"
        }
      ],
      "source": [
        "with open (\"data/sample_json.json\", \"r\") as f:\n",
        "    new_data = json.load(f)\n",
        "new_data"
      ]
    },
    {
      "cell_type": "markdown",
      "id": "earlier-festival",
      "metadata": {
        "id": "earlier-festival"
      },
      "source": [
        "These are the only two commands that you need to know to start working with JSON data in Python. I highly encourage you to spend a few minutes playing with these commands and trying to store data with json.dump() and load data with json.load()"
      ]
    },
    {
      "cell_type": "code",
      "execution_count": null,
      "id": "surrounded-protest",
      "metadata": {
        "id": "surrounded-protest"
      },
      "outputs": [],
      "source": []
    }
  ],
  "metadata": {
    "kernelspec": {
      "display_name": "Python 3 (ipykernel)",
      "language": "python",
      "name": "python3"
    },
    "language_info": {
      "codemirror_mode": {
        "name": "ipython",
        "version": 3
      },
      "file_extension": ".py",
      "mimetype": "text/x-python",
      "name": "python",
      "nbconvert_exporter": "python",
      "pygments_lexer": "ipython3",
      "version": "3.9.12"
    },
    "colab": {
      "provenance": [],
      "toc_visible": true,
      "include_colab_link": true
    }
  },
  "nbformat": 4,
  "nbformat_minor": 5
}