{
  "cells": [
    {
      "cell_type": "markdown",
      "id": "forced-flush",
      "metadata": {
        "id": "forced-flush"
      },
      "source": [
        "# Working with JSON Data"
      ]
    },
    {
      "cell_type": "code",
      "source": [
        "{\n",
        "    \"0\": {\n",
        "        \"id\": \"0\",\n",
        "        \"name\": \"Tractor\",\n",
        "        \"description\": \"Powerful tractor for plowing and hauling.\",\n",
        "        \"image\": \"tractor.jpg\"\n",
        "    },\n",
        "    \"1\": {\n",
        "        \"id\": \"1\",\n",
        "        \"name\": \"Harvester\",\n",
        "        \"description\": \"Efficient harvester for crops.\",\n",
        "        \"image\": \"harvester.jpg\"\n",
        "    }\n",
        "}\n"
      ],
      "metadata": {
        "colab": {
          "base_uri": "https://localhost:8080/",
          "height": 106
        },
        "id": "rywJzVELIWJC",
        "outputId": "fff02649-7b08-4118-ea38-b21fa9a7abf1"
      },
      "id": "rywJzVELIWJC",
      "execution_count": 3,
      "outputs": [
        {
          "output_type": "error",
          "ename": "SyntaxError",
          "evalue": "(unicode error) 'unicodeescape' codec can't decode bytes in position 2-4: truncated \\xXX escape (<ipython-input-3-be88d7cfdb99>, line 8)",
          "traceback": [
            "\u001b[0;36m  File \u001b[0;32m\"<ipython-input-3-be88d7cfdb99>\"\u001b[0;36m, line \u001b[0;32m8\u001b[0m\n\u001b[0;31m    },\u001b[0m\n\u001b[0m    ^\u001b[0m\n\u001b[0;31mSyntaxError\u001b[0m\u001b[0;31m:\u001b[0m (unicode error) 'unicodeescape' codec can't decode bytes in position 2-4: truncated \\xXX escape\n"
          ]
        }
      ]
    },
    {
      "cell_type": "markdown",
      "id": "designed-reform",
      "metadata": {
        "id": "designed-reform"
      },
      "source": [
        "## Introduction"
      ]
    },
    {
      "cell_type": "markdown",
      "id": "danish-solution",
      "metadata": {
        "id": "danish-solution"
      },
      "source": [
        "In this chapter, you will meet JSON data. JSON is a data format that is frequently used online. It stands for JavaScript Object Notation. It is the principal way in which data is stored for websites and called by JavaScript. There are two reasons to learn JSON data structures early in your coding career.\n",
        "\n",
        "1) JSON is universally recognized by all browsers.\n",
        "2) JSON allows you to structure hierarchical data.\n",
        "\n",
        "What is hierarchical data? This is data that may be nested within other data. This type of data is sometimes difficult to represent cleanly in CSV format. A good way to think about this is with the following data structure. Imagine you wanted to store a series of texts in Excel. In one column, you would have a text and then in the next column, you would store a list of speakers. Now, how do you represent the list of names? You could do it like this:"
      ]
    },
    {
      "cell_type": "markdown",
      "id": "fundamental-mortality",
      "metadata": {
        "id": "fundamental-mortality"
      },
      "source": [
        "| Text                                                             | Names                        |\n",
        "|------------------------------------------------------------------|------------------------------|\n",
        "| John and Kathy both know each other. Marge and Francois do not. | John, Kathy, Marge, Francois |"
      ]
    },
    {
      "cell_type": "markdown",
      "id": "responsible-coffee",
      "metadata": {
        "id": "responsible-coffee"
      },
      "source": [
        "But this can get messy really quickly because lists are difficult to store as a data structure within a cell. There are ways to get around this, but when you start working with this type of CSV data computationally, it can get complicated the deeper the hierarchies go. Imagine if for each person, we had an age and a role. How would we store that data? Perhaps like this:"
      ]
    },
    {
      "cell_type": "markdown",
      "id": "center-feeding",
      "metadata": {
        "id": "center-feeding"
      },
      "source": [
        "| Text                                                             | Names                        | Age            |\n",
        "|------------------------------------------------------------------|------------------------------|----------------|\n",
        "| John and Kathy both know each other. Marge and Francois do not. | John, Kathy, Marge, Francois | 20, 25, 30, 35 |"
      ]
    },
    {
      "cell_type": "markdown",
      "id": "aboriginal-world",
      "metadata": {
        "id": "aboriginal-world"
      },
      "source": [
        "If I want to update the data, I need to make sure that the list of ages corresponds to the list of names. Again, this can lead to issues down the road. The solution is to stop using CSV or Excel to store this type of data and use a format that is more flexible and able to handle things like lists and nested hierarchical data. In Python, the easiest solution is JSON. To use JSON, you do not need to install any special libraries. It comes prebuilt with a special library called JSON. The only methods you need to know to use JSON: json.dump() and json.load(). But first, let's import json."
      ]
    },
    {
      "cell_type": "code",
      "execution_count": null,
      "id": "usual-documentary",
      "metadata": {
        "id": "usual-documentary"
      },
      "outputs": [],
      "source": [
        "import json"
      ]
    },
    {
      "cell_type": "markdown",
      "id": "surprising-dispute",
      "metadata": {
        "id": "surprising-dispute"
      },
      "source": [
        "Let's create the data above as a data structure within Python."
      ]
    },
    {
      "cell_type": "code",
      "execution_count": null,
      "id": "south-feeling",
      "metadata": {
        "id": "south-feeling",
        "outputId": "4352e137-4309-4dad-bf34-3e695fa65ee7"
      },
      "outputs": [
        {
          "data": {
            "text/plain": [
              "{'text': 'John and Kathy both know each other. Marge and Francois do not.',\n",
              " 'names': ['John', 'Kathy', 'Marge', 'Francois']}"
            ]
          },
          "execution_count": 1,
          "metadata": {},
          "output_type": "execute_result"
        }
      ],
      "source": [
        "data = {\"text\": \"John and Kathy both know each other. Marge and Francois do not.\",\n",
        "        \"names\": [\"John\", \"Kathy\", \"Marge\", \"Francois\"]}\n",
        "data"
      ]
    },
    {
      "cell_type": "markdown",
      "id": "pending-figure",
      "metadata": {
        "id": "pending-figure"
      },
      "source": [
        "## json.dump()"
      ]
    },
    {
      "cell_type": "markdown",
      "id": "failing-elevation",
      "metadata": {
        "id": "failing-elevation"
      },
      "source": [
        "Now, let's try and store that data outside of Python as a JSON file. To do that, we with use the with open operator we learned about in the last chapter. Instead of naming this a .txt file, however, we will name is .json. Next, we will execute the command json.dump(). This will take 2 essential arguments: the data that you want to dump to the file and the object in which you want to dump the data, in this case \"f\". The other keyword argument here is indent. I always like to use this because it makes the JSON file easier to read. It indents the data 4 spaces each time it goes deeper into the hierarchy."
      ]
    },
    {
      "cell_type": "code",
      "execution_count": null,
      "id": "unique-atlas",
      "metadata": {
        "id": "unique-atlas"
      },
      "outputs": [],
      "source": [
        "with open (\"data/sample_json.json\", \"w\") as f:\n",
        "    json.dump(data, f, indent=4)"
      ]
    },
    {
      "cell_type": "markdown",
      "id": "above-agriculture",
      "metadata": {
        "id": "above-agriculture"
      },
      "source": [
        "## json.load()"
      ]
    },
    {
      "cell_type": "markdown",
      "id": "million-current",
      "metadata": {
        "id": "million-current"
      },
      "source": [
        "Now that we have dumped the data into a file, let's try and load it back up. Here, we will open the same JSON file, but this time as readable. We will create a new object, new_data and use json.load(). This will take one argument, the file object that you want to load from. So long as your JSON file is not corrupted, the data will load successfully."
      ]
    },
    {
      "cell_type": "code",
      "execution_count": null,
      "id": "respiratory-surgery",
      "metadata": {
        "id": "respiratory-surgery",
        "outputId": "9124f04f-e675-4bb0-957f-a2ccc62e6844"
      },
      "outputs": [
        {
          "data": {
            "text/plain": [
              "{'text': 'John and Kathy both know each other. Marge and Francois do not.',\n",
              " 'names': ['John', 'Kathy', 'Marge', 'Francois']}"
            ]
          },
          "execution_count": 14,
          "metadata": {},
          "output_type": "execute_result"
        }
      ],
      "source": [
        "with open (\"data/sample_json.json\", \"r\") as f:\n",
        "    new_data = json.load(f)\n",
        "new_data"
      ]
    },
    {
      "cell_type": "markdown",
      "id": "earlier-festival",
      "metadata": {
        "id": "earlier-festival"
      },
      "source": [
        "These are the only two commands that you need to know to start working with JSON data in Python. I highly encourage you to spend a few minutes playing with these commands and trying to store data with json.dump() and load data with json.load()"
      ]
    },
    {
      "cell_type": "code",
      "execution_count": null,
      "id": "surrounded-protest",
      "metadata": {
        "id": "surrounded-protest"
      },
      "outputs": [],
      "source": []
    }
  ],
  "metadata": {
    "kernelspec": {
      "display_name": "Python 3 (ipykernel)",
      "language": "python",
      "name": "python3"
    },
    "language_info": {
      "codemirror_mode": {
        "name": "ipython",
        "version": 3
      },
      "file_extension": ".py",
      "mimetype": "text/x-python",
      "name": "python",
      "nbconvert_exporter": "python",
      "pygments_lexer": "ipython3",
      "version": "3.9.12"
    },
    "colab": {
      "provenance": []
    }
  },
  "nbformat": 4,
  "nbformat_minor": 5
}